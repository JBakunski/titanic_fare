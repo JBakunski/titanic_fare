{
 "cells": [
  {
   "cell_type": "code",
   "execution_count": 2,
   "id": "aff3beae-0e22-4d1b-a7c4-6bfbbb0e1258",
   "metadata": {},
   "outputs": [],
   "source": [
    "import numpy as np\n",
    "import pandas as pd\n",
    "import matplotlib.pyplot as plt\n",
    "from scipy import stats"
   ]
  },
  {
   "cell_type": "code",
   "execution_count": 3,
   "id": "191edca1-219b-4652-ae93-3c21bbeb246e",
   "metadata": {},
   "outputs": [],
   "source": [
    "df = pd.read_csv(\"titanic.csv\")"
   ]
  },
  {
   "cell_type": "code",
   "execution_count": 4,
   "id": "941cd45d-1d83-4575-a8bb-f05794f152a5",
   "metadata": {},
   "outputs": [
    {
     "data": {
      "text/html": [
       "<div>\n",
       "<style scoped>\n",
       "    .dataframe tbody tr th:only-of-type {\n",
       "        vertical-align: middle;\n",
       "    }\n",
       "\n",
       "    .dataframe tbody tr th {\n",
       "        vertical-align: top;\n",
       "    }\n",
       "\n",
       "    .dataframe thead th {\n",
       "        text-align: right;\n",
       "    }\n",
       "</style>\n",
       "<table border=\"1\" class=\"dataframe\">\n",
       "  <thead>\n",
       "    <tr style=\"text-align: right;\">\n",
       "      <th></th>\n",
       "      <th>PassengerId</th>\n",
       "      <th>Survived</th>\n",
       "      <th>Pclass</th>\n",
       "      <th>Name</th>\n",
       "      <th>Sex</th>\n",
       "      <th>Age</th>\n",
       "      <th>SibSp</th>\n",
       "      <th>Parch</th>\n",
       "      <th>Ticket</th>\n",
       "      <th>Fare</th>\n",
       "      <th>Cabin</th>\n",
       "      <th>Embarked</th>\n",
       "    </tr>\n",
       "  </thead>\n",
       "  <tbody>\n",
       "    <tr>\n",
       "      <th>0</th>\n",
       "      <td>1</td>\n",
       "      <td>0</td>\n",
       "      <td>3</td>\n",
       "      <td>Braund, Mr. Owen Harris</td>\n",
       "      <td>male</td>\n",
       "      <td>22.0</td>\n",
       "      <td>1</td>\n",
       "      <td>0</td>\n",
       "      <td>A/5 21171</td>\n",
       "      <td>7.2500</td>\n",
       "      <td>NaN</td>\n",
       "      <td>S</td>\n",
       "    </tr>\n",
       "    <tr>\n",
       "      <th>1</th>\n",
       "      <td>2</td>\n",
       "      <td>1</td>\n",
       "      <td>1</td>\n",
       "      <td>Cumings, Mrs. John Bradley (Florence Briggs Th...</td>\n",
       "      <td>female</td>\n",
       "      <td>38.0</td>\n",
       "      <td>1</td>\n",
       "      <td>0</td>\n",
       "      <td>PC 17599</td>\n",
       "      <td>71.2833</td>\n",
       "      <td>C85</td>\n",
       "      <td>C</td>\n",
       "    </tr>\n",
       "    <tr>\n",
       "      <th>2</th>\n",
       "      <td>3</td>\n",
       "      <td>1</td>\n",
       "      <td>3</td>\n",
       "      <td>Heikkinen, Miss. Laina</td>\n",
       "      <td>female</td>\n",
       "      <td>26.0</td>\n",
       "      <td>0</td>\n",
       "      <td>0</td>\n",
       "      <td>STON/O2. 3101282</td>\n",
       "      <td>7.9250</td>\n",
       "      <td>NaN</td>\n",
       "      <td>S</td>\n",
       "    </tr>\n",
       "    <tr>\n",
       "      <th>3</th>\n",
       "      <td>4</td>\n",
       "      <td>1</td>\n",
       "      <td>1</td>\n",
       "      <td>Futrelle, Mrs. Jacques Heath (Lily May Peel)</td>\n",
       "      <td>female</td>\n",
       "      <td>35.0</td>\n",
       "      <td>1</td>\n",
       "      <td>0</td>\n",
       "      <td>113803</td>\n",
       "      <td>53.1000</td>\n",
       "      <td>C123</td>\n",
       "      <td>S</td>\n",
       "    </tr>\n",
       "    <tr>\n",
       "      <th>4</th>\n",
       "      <td>5</td>\n",
       "      <td>0</td>\n",
       "      <td>3</td>\n",
       "      <td>Allen, Mr. William Henry</td>\n",
       "      <td>male</td>\n",
       "      <td>35.0</td>\n",
       "      <td>0</td>\n",
       "      <td>0</td>\n",
       "      <td>373450</td>\n",
       "      <td>8.0500</td>\n",
       "      <td>NaN</td>\n",
       "      <td>S</td>\n",
       "    </tr>\n",
       "  </tbody>\n",
       "</table>\n",
       "</div>"
      ],
      "text/plain": [
       "   PassengerId  Survived  Pclass  \\\n",
       "0            1         0       3   \n",
       "1            2         1       1   \n",
       "2            3         1       3   \n",
       "3            4         1       1   \n",
       "4            5         0       3   \n",
       "\n",
       "                                                Name     Sex   Age  SibSp  \\\n",
       "0                            Braund, Mr. Owen Harris    male  22.0      1   \n",
       "1  Cumings, Mrs. John Bradley (Florence Briggs Th...  female  38.0      1   \n",
       "2                             Heikkinen, Miss. Laina  female  26.0      0   \n",
       "3       Futrelle, Mrs. Jacques Heath (Lily May Peel)  female  35.0      1   \n",
       "4                           Allen, Mr. William Henry    male  35.0      0   \n",
       "\n",
       "   Parch            Ticket     Fare Cabin Embarked  \n",
       "0      0         A/5 21171   7.2500   NaN        S  \n",
       "1      0          PC 17599  71.2833   C85        C  \n",
       "2      0  STON/O2. 3101282   7.9250   NaN        S  \n",
       "3      0            113803  53.1000  C123        S  \n",
       "4      0            373450   8.0500   NaN        S  "
      ]
     },
     "execution_count": 4,
     "metadata": {},
     "output_type": "execute_result"
    }
   ],
   "source": [
    "df.head()"
   ]
  },
  {
   "cell_type": "code",
   "execution_count": 7,
   "id": "3731eb15-23f6-4db9-b58f-1ae22db6f9b1",
   "metadata": {},
   "outputs": [],
   "source": [
    "fare_data = df.loc[df['Fare'].notnull(), 'Fare'].values"
   ]
  },
  {
   "cell_type": "markdown",
   "id": "4aaa5ce8-7899-4f78-adc9-375169a79d12",
   "metadata": {},
   "source": [
    "### Prezentacja rozkładu wysokości opłat za bilet"
   ]
  },
  {
   "cell_type": "code",
   "execution_count": 76,
   "id": "e88689e8-93cf-4884-9073-f1be5ae87b35",
   "metadata": {},
   "outputs": [
    {
     "data": {
      "image/png": "[encoded data removed]",
      "text/plain": [
       "<Figure size 432x288 with 1 Axes>"
      ]
     },
     "metadata": {
      "needs_background": "light"
     },
     "output_type": "display_data"
    }
   ],
   "source": [
    "plt.hist(fare_data, bins=20)\n",
    "plt.show()"
   ]
  },
  {
   "cell_type": "markdown",
   "id": "d559dc1a-eae4-452f-84df-899e04da3f76",
   "metadata": {},
   "source": [
    "### Obliczenie średniej opłaty"
   ]
  },
  {
   "cell_type": "code",
   "execution_count": 77,
   "id": "45678a55-68d7-4e5d-a336-5613c4f8be73",
   "metadata": {},
   "outputs": [
    {
     "data": {
      "text/plain": [
       "32.2"
      ]
     },
     "execution_count": 77,
     "metadata": {},
     "output_type": "execute_result"
    }
   ],
   "source": [
    "fare_mean = np.round(np.mean(fare_data),2)\n",
    "fare_mean"
   ]
  },
  {
   "cell_type": "code",
   "execution_count": 78,
   "id": "cef8aa55-1d28-40e8-873b-21e180a0f47a",
   "metadata": {},
   "outputs": [
    {
     "data": {
      "image/png": "[encoded data removed]",
      "text/plain": [
       "<Figure size 432x288 with 1 Axes>"
      ]
     },
     "metadata": {
      "needs_background": "light"
     },
     "output_type": "display_data"
    }
   ],
   "source": [
    "plt.hist(fare_data, bins=20)\n",
    "plt.axvline(x=fare_mean, color='black', label=\"średnia\")\n",
    "plt.legend(loc='upper right')\n",
    "plt.show()"
   ]
  },
  {
   "cell_type": "markdown",
   "id": "06c622a3-9cee-4a80-83ea-a3f0670d4d85",
   "metadata": {},
   "source": [
    "### Obliczenie mediany"
   ]
  },
  {
   "cell_type": "code",
   "execution_count": 79,
   "id": "c76cab0b-5edb-4868-9ff6-563859943103",
   "metadata": {},
   "outputs": [
    {
     "data": {
      "text/plain": [
       "14.45"
      ]
     },
     "execution_count": 79,
     "metadata": {},
     "output_type": "execute_result"
    }
   ],
   "source": [
    "fare_median = np.round(np.median(fare_data), 2)\n",
    "fare_median"
   ]
  },
  {
   "cell_type": "code",
   "execution_count": 80,
   "id": "7bf3792b-7817-4186-8c30-ec4aecca15ad",
   "metadata": {},
   "outputs": [
    {
     "data": {
      "image/png": "[encoded data removed]",
      "text/plain": [
       "<Figure size 432x288 with 1 Axes>"
      ]
     },
     "metadata": {
      "needs_background": "light"
     },
     "output_type": "display_data"
    }
   ],
   "source": [
    "plt.hist(fare_data, bins=20)\n",
    "plt.axvline(x=fare_mean, color='black', label=\"średnia\")\n",
    "plt.axvline(x=fare_median, color='red', label='mediana')\n",
    "plt.legend(loc='upper right')\n",
    "plt.show()"
   ]
  },
  {
   "cell_type": "markdown",
   "id": "d1e53910-02a7-4fd6-8c62-f49056c1ec63",
   "metadata": {},
   "source": [
    "### Obliczenie mody"
   ]
  },
  {
   "cell_type": "code",
   "execution_count": 81,
   "id": "cf2c68de-3ba4-49e2-ae26-32aa6c2a4c9a",
   "metadata": {},
   "outputs": [
    {
     "data": {
      "text/plain": [
       "ModeResult(mode=array([8.05]), count=array([43]))"
      ]
     },
     "execution_count": 81,
     "metadata": {},
     "output_type": "execute_result"
    }
   ],
   "source": [
    "fare_mode = stats.mode(fare_data)\n",
    "fare_mode"
   ]
  },
  {
   "cell_type": "code",
   "execution_count": 82,
   "id": "0fdebc7e-b4e9-4d3b-bc7e-e7e587593ede",
   "metadata": {},
   "outputs": [
    {
     "data": {
      "image/png": "[encoded data removed]",
      "text/plain": [
       "<Figure size 432x288 with 1 Axes>"
      ]
     },
     "metadata": {
      "needs_background": "light"
     },
     "output_type": "display_data"
    }
   ],
   "source": [
    "plt.hist(fare_data, bins=20)\n",
    "plt.axvline(x=fare_mean, color='black', label=\"średnia\")\n",
    "plt.axvline(x=fare_median, color='red', label='mediana')\n",
    "plt.axvline(x=fare_mode[0], color='orange', label='moda')\n",
    "plt.legend(loc='upper right')\n",
    "plt.show()"
   ]
  },
  {
   "cell_type": "markdown",
   "id": "42de266d-4c56-4f5b-8020-39649f64669e",
   "metadata": {},
   "source": [
    "#### W przypadku danych dotyczących wysokości opłat za bilety mamy do czynienia z rozkładem pozytywnym skośnym"
   ]
  },
  {
   "cell_type": "markdown",
   "id": "24c05972-560c-4056-af6c-8f6d34461495",
   "metadata": {},
   "source": [
    "### Obliczenie kwartyli"
   ]
  },
  {
   "cell_type": "code",
   "execution_count": 83,
   "id": "6f1bfafe-bbc6-4bbc-b56c-43c2f87a918e",
   "metadata": {},
   "outputs": [],
   "source": [
    "q0 = np.quantile(fare_data, 0.0)\n",
    "q1 = np.round(np.quantile(fare_data, 0.25),2)\n",
    "q2 = np.round(np.quantile(fare_data, 0.5),2)\n",
    "q3 = np.round(np.quantile(fare_data, 0.75),2)\n",
    "q4 = np.round(np.quantile(fare_data, 1),2)"
   ]
  },
  {
   "cell_type": "markdown",
   "id": "52ed6d7f-f5c9-40d5-a2aa-04131e996a5b",
   "metadata": {},
   "source": [
    "#### Kwartyl 1"
   ]
  },
  {
   "cell_type": "code",
   "execution_count": 84,
   "id": "5f02c07f-e01b-489c-9266-7ffcc46ed572",
   "metadata": {},
   "outputs": [
    {
     "data": {
      "text/plain": [
       "7.91"
      ]
     },
     "execution_count": 84,
     "metadata": {},
     "output_type": "execute_result"
    }
   ],
   "source": [
    "q1"
   ]
  },
  {
   "cell_type": "markdown",
   "id": "d8d4334c-a1d6-4e46-95ba-2d69cc49663d",
   "metadata": {},
   "source": [
    "#### Kwartyl 2"
   ]
  },
  {
   "cell_type": "code",
   "execution_count": 85,
   "id": "047ae887-5b63-45dd-87df-338b95191f12",
   "metadata": {},
   "outputs": [
    {
     "data": {
      "text/plain": [
       "14.45"
      ]
     },
     "execution_count": 85,
     "metadata": {},
     "output_type": "execute_result"
    }
   ],
   "source": [
    "q2"
   ]
  },
  {
   "cell_type": "markdown",
   "id": "30a9a630-205c-43d9-aafb-0743e631abed",
   "metadata": {},
   "source": [
    "#### Kwartyl 3"
   ]
  },
  {
   "cell_type": "code",
   "execution_count": 86,
   "id": "fc5a7902-151f-4548-add6-7b9759591bf2",
   "metadata": {},
   "outputs": [
    {
     "data": {
      "text/plain": [
       "31.0"
      ]
     },
     "execution_count": 86,
     "metadata": {},
     "output_type": "execute_result"
    }
   ],
   "source": [
    "q3"
   ]
  },
  {
   "cell_type": "markdown",
   "id": "e04f5008-50c9-47bc-b05f-1b00e7004a2f",
   "metadata": {},
   "source": [
    "#### Z powyższej analizy wynika, że 75% sprzedanych biletów nie przekraczało ceny 31.00 funtów"
   ]
  },
  {
   "cell_type": "markdown",
   "id": "c4d2d911-9104-4817-ada5-8386b296bfb2",
   "metadata": {},
   "source": [
    "### Obliczenie zakresu danych"
   ]
  },
  {
   "cell_type": "code",
   "execution_count": 87,
   "id": "ec79211e-24ea-4841-9361-3a41a2770d77",
   "metadata": {},
   "outputs": [
    {
     "data": {
      "text/plain": [
       "512.33"
      ]
     },
     "execution_count": 87,
     "metadata": {},
     "output_type": "execute_result"
    }
   ],
   "source": [
    "fare_range = q4 - q0\n",
    "fare_range"
   ]
  },
  {
   "cell_type": "markdown",
   "id": "273281d6-1cec-4378-8996-fe9f9d48f0ba",
   "metadata": {},
   "source": [
    "### Obliczenie rozstępu międzykwartylowego"
   ]
  },
  {
   "cell_type": "code",
   "execution_count": 88,
   "id": "b51d821f-574c-4bbd-9894-6bf4ecdca8d5",
   "metadata": {},
   "outputs": [
    {
     "data": {
      "text/plain": [
       "23.09"
      ]
     },
     "execution_count": 88,
     "metadata": {},
     "output_type": "execute_result"
    }
   ],
   "source": [
    "iqr = q3 - q1\n",
    "iqr"
   ]
  },
  {
   "cell_type": "markdown",
   "id": "3332154d-c3db-42c3-a658-519d4b127cee",
   "metadata": {},
   "source": [
    "### Wykres pudełkowy rozkładu cen biletów"
   ]
  },
  {
   "cell_type": "code",
   "execution_count": 89,
   "id": "41e252d6-a381-42aa-99ff-685ec7da40b1",
   "metadata": {},
   "outputs": [
    {
     "data": {
      "image/png": "[encoded data removed]",
      "text/plain": [
       "<Figure size 432x288 with 1 Axes>"
      ]
     },
     "metadata": {
      "needs_background": "light"
     },
     "output_type": "display_data"
    }
   ],
   "source": [
    "plt.boxplot(fare_data)\n",
    "plt.show()"
   ]
  },
  {
   "cell_type": "markdown",
   "id": "79286955-8984-410f-a50d-4346c89a0c10",
   "metadata": {},
   "source": [
    "#### Z powyższej analizy wynika, że 75% biletów stanowiły bilety najtańsze i zwykłe natomiast pozostałe 25% stanowiły bilety klas premium"
   ]
  },
  {
   "cell_type": "code",
   "execution_count": null,
   "id": "f24486b7-814d-47aa-919e-81de5dce2060",
   "metadata": {},
   "outputs": [],
   "source": []
  }
 ],
 "metadata": {
  "kernelspec": {
   "display_name": "Python 3 (ipykernel)",
   "language": "python",
   "name": "python3"
  },
  "language_info": {
   "codemirror_mode": {
    "name": "ipython",
    "version": 3
   },
   "file_extension": ".py",
   "mimetype": "text/x-python",
   "name": "python",
   "nbconvert_exporter": "python",
   "pygments_lexer": "ipython3",
   "version": "3.9.7"
  }
 },
 "nbformat": 4,
 "nbformat_minor": 5
}
